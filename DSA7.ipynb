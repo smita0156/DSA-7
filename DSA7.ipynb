{
 "cells": [
  {
   "cell_type": "code",
   "execution_count": 1,
   "id": "fe415241-03ef-466c-a61d-e953b61409f6",
   "metadata": {},
   "outputs": [],
   "source": [
    "# 1. Given two strings s and t, determine if they are isomorphic."
   ]
  },
  {
   "cell_type": "code",
   "execution_count": null,
   "id": "f62affb0-fd83-4d01-a270-049293b43064",
   "metadata": {},
   "outputs": [],
   "source": [
    "class Solution:\n",
    "    def isIsomorphic(self, s: str, t: str) -> bool:\n",
    "        return len(set(s))==len(set(t))==len(set(zip(s,t)))"
   ]
  },
  {
   "cell_type": "code",
   "execution_count": null,
   "id": "2c18c73d-046b-4912-a70f-fa689d031111",
   "metadata": {},
   "outputs": [],
   "source": [
    "class Solution:\n",
    "    def isIsomorphic(self, s: str, t: str) -> bool:\n",
    "        dic1,dic2={},{}\n",
    "        for s1,t1 in zip(s,t):\n",
    "            if (s1 in dic1 and dic1[s1]!=t1) or ( t1 in dic2 and dic2[t1]!=s1):\n",
    "                return False\n",
    "            dic1[s1]=t1\n",
    "            dic2[t1]=s1\n",
    "        return True\n",
    "        "
   ]
  },
  {
   "cell_type": "code",
   "execution_count": null,
   "id": "cb634ea2-5701-42b2-86bd-349284451949",
   "metadata": {},
   "outputs": [],
   "source": [
    "# 2. Given a string num which represents an integer, return true if num is a strobogrammatic "
   ]
  },
  {
   "cell_type": "code",
   "execution_count": null,
   "id": "0b6ce38f-3498-4af6-b88a-6c2a83d3c3ac",
   "metadata": {},
   "outputs": [],
   "source": [
    "class Solution(object):\n",
    "    def isStrobogrammatic(self, num):\n",
    "      \n",
    "        maps = {(\"0\", \"0\"), (\"1\", \"1\"), (\"6\", \"9\"), (\"8\", \"8\"), (\"9\", \"6\")}\n",
    "        i,j = 0, len(num) - 1\n",
    "        while i <= j:\n",
    "            if (num[i], num[j]) not in maps:\n",
    "                return False\n",
    "            i += 1\n",
    "            j -= 1\n",
    "        return True"
   ]
  },
  {
   "cell_type": "code",
   "execution_count": null,
   "id": "66789e0e-b79d-4bc2-9f0c-759cd3f238d3",
   "metadata": {},
   "outputs": [],
   "source": [
    "# 3. Given two non-negative integers, num1 and num2 represented as string, return the sum of num1 and num2 as a string."
   ]
  },
  {
   "cell_type": "code",
   "execution_count": null,
   "id": "4a5467c7-d85b-45c4-8f2d-64fd6adce00b",
   "metadata": {},
   "outputs": [],
   "source": [
    "class Solution:\n",
    "    def addStrings(self, num1: str, num2: str) -> str:\n",
    "        sys.set_int_max_str_digits(10000)\n",
    "        return str(int(num1)+int(num2))"
   ]
  },
  {
   "cell_type": "code",
   "execution_count": null,
   "id": "0deee974-a451-48f6-9195-4de76f0f07d4",
   "metadata": {},
   "outputs": [],
   "source": [
    "# 4. Given a string s, reverse the order of characters in each word within a sentence while "
   ]
  },
  {
   "cell_type": "code",
   "execution_count": null,
   "id": "fd38b28b-b40c-4d4a-a604-c5f5ed1045a3",
   "metadata": {},
   "outputs": [],
   "source": [
    "class Solution:\n",
    "    def reverseWords(self, s: str) -> str:\n",
    "        words=s.split()\n",
    "        ans = \"\"\n",
    "        for  i in range(len(words)):\n",
    "            ans += words[i][::-1]\n",
    "            if i != len(words)-1:\n",
    "                ans+=\" \"\n",
    "        return ans"
   ]
  },
  {
   "cell_type": "code",
   "execution_count": null,
   "id": "f455e029-f2de-4ed8-901f-f0e3c6e6cea8",
   "metadata": {},
   "outputs": [],
   "source": [
    "# 5. Given a string s and an integer k, reverse the first k c"
   ]
  },
  {
   "cell_type": "code",
   "execution_count": null,
   "id": "f633aa1d-47d4-4bf5-aa30-4b2fdd26103c",
   "metadata": {},
   "outputs": [],
   "source": [
    "class Solution:\n",
    "    def reverseStr(self, s: str, k: int) -> str:\n",
    "        temp = []\n",
    "        first = 0\n",
    "        last = k-1                 \n",
    "        while (first <= len(s)-1):     \n",
    "            if last > len(s)-1:\n",
    "                last = len(s) - 1\n",
    "            while(last >= first): \n",
    "                temp.append(s[last])  \n",
    "                last = last - 1\n",
    "            first = first + k                 \n",
    "            last = first + (k-1)\n",
    "            while(last >= first):\n",
    "                if first > len(s)-1:\n",
    "                    break\n",
    "                temp.append(s[first])  \n",
    "                first = first + 1                \n",
    "            last = first + (k-1)       \n",
    "        return ''.join(temp)\n",
    "            "
   ]
  },
  {
   "cell_type": "code",
   "execution_count": null,
   "id": "adc23eb4-037e-4ee1-a402-d22a4d70689e",
   "metadata": {},
   "outputs": [],
   "source": [
    "# 6. Given two strings s and goal, return true "
   ]
  },
  {
   "cell_type": "code",
   "execution_count": null,
   "id": "82a16aee-a276-43cc-b050-a14f88655dae",
   "metadata": {},
   "outputs": [],
   "source": [
    "class Solution:\n",
    "    def rotateString(self, s: str, goal: str) -> bool:\n",
    "        if s == goal:\n",
    "            return True\n",
    "\n",
    "        s, goal = [*s], [*goal] \n",
    "\n",
    "        # unpacking the strings (creates list)\n",
    "        # ex: 'hello' -> ['h','e','l','l','o']\n",
    "\n",
    "\n",
    "        for x in range(len(s)):\n",
    "            a = s[0]\n",
    "            s.pop(0); s.append(a)\n",
    "            # rotate the string by saving the first character then removing it and then adding it to the end\n",
    "\n",
    "            if s == goal:\n",
    "                return True\n",
    "            # checking if the rotated string is the same as the goal\n",
    "\n",
    "        return False"
   ]
  },
  {
   "cell_type": "code",
   "execution_count": null,
   "id": "93be145f-c90a-4a43-a4de-413c71480bd5",
   "metadata": {},
   "outputs": [],
   "source": [
    "# 7. Given two strings s and t, return true if they are equal when both"
   ]
  },
  {
   "cell_type": "code",
   "execution_count": null,
   "id": "c5270f27-d344-41a8-a02d-991e999b7b43",
   "metadata": {},
   "outputs": [],
   "source": [
    "class Solution:\n",
    "    def backspaceCompare(self, s: str, t: str) -> bool:\n",
    "        x=[]\n",
    "        y=[]\n",
    "        for i in range(len(s)):\n",
    "            if x and s[i]==\"#\":\n",
    "                x.pop()\n",
    "            else:\n",
    "                if s[i]!=\"#\":\n",
    "                    x.append(s[i])\n",
    "        for i in range(len(t)):\n",
    "            if y and t[i]==\"#\":\n",
    "                y.pop()\n",
    "            else:\n",
    "                if t[i]!=\"#\":\n",
    "                    y.append(t[i])\n",
    "        if x==y:\n",
    "            return True\n",
    "        return False"
   ]
  },
  {
   "cell_type": "code",
   "execution_count": null,
   "id": "cd306cd1-11bf-4012-9a26-fc4daaa84420",
   "metadata": {},
   "outputs": [],
   "source": [
    "# 8. You are given an array coordinates, coordinates[i] = [x, y], "
   ]
  },
  {
   "cell_type": "code",
   "execution_count": null,
   "id": "9323e166-3314-459c-b247-c686fe522afc",
   "metadata": {},
   "outputs": [],
   "source": [
    "class Solution:\n",
    "    def checkStraightLine(self, coordinates):\n",
    "        x0, y0 = coordinates[0]\n",
    "        x1, y1 = coordinates[1]\n",
    "\n",
    "        for i in range(2, len(coordinates)):\n",
    "            x, y = coordinates[i]\n",
    "            if (x - x0) * (y1 - y0) != (y - y0) * (x1 - x0):\n",
    "                return False\n",
    "\n",
    "        return True"
   ]
  },
  {
   "cell_type": "code",
   "execution_count": null,
   "id": "d505a313-5d65-4005-9e1f-42b835444f4f",
   "metadata": {},
   "outputs": [],
   "source": []
  }
 ],
 "metadata": {
  "kernelspec": {
   "display_name": "Python 3 (ipykernel)",
   "language": "python",
   "name": "python3"
  },
  "language_info": {
   "codemirror_mode": {
    "name": "ipython",
    "version": 3
   },
   "file_extension": ".py",
   "mimetype": "text/x-python",
   "name": "python",
   "nbconvert_exporter": "python",
   "pygments_lexer": "ipython3",
   "version": "3.10.6"
  }
 },
 "nbformat": 4,
 "nbformat_minor": 5
}
